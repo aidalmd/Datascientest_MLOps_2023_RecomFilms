{
 "cells": [
  {
   "cell_type": "markdown",
   "id": "7edcb185",
   "metadata": {},
   "source": [
    "# Recommandation de Films"
   ]
  },
  {
   "cell_type": "markdown",
   "id": "343dd0be",
   "metadata": {},
   "source": [
    "## Objectif : \n",
    "Fournir des recommandations aux utilisateurs en fonction du contenu de leurs films préférés.\n"
   ]
  },
  {
   "cell_type": "code",
   "execution_count": 6,
   "id": "a36a797d",
   "metadata": {},
   "outputs": [],
   "source": [
    "import requests\n",
    "import bs4\n",
    "\n",
    "\n",
    "from requests import get\n",
    "from bs4 import BeautifulSoup \n",
    "from warnings import warn\n",
    "from time import sleep\n",
    "from random import randint\n",
    "import numpy as np, pandas as pd\n",
    "import numpy as np\n",
    "\n",
    "from spacy.lang.fr.stop_words import STOP_WORDS as fr_stop\n",
    "from sklearn.feature_extraction.text import TfidfVectorizer\n",
    "\n",
    "from sklearn.metrics.pairwise import linear_kernel\n"
   ]
  },
  {
   "cell_type": "markdown",
   "id": "e9e45de7",
   "metadata": {},
   "source": [
    "## Web scraping \n",
    "Dans un premier temps, on va \"scraper\" des informations sur les meilleurs films du site allocine https://www.allocine.fr/film/meilleurs/ "
   ]
  },
  {
   "cell_type": "code",
   "execution_count": 2,
   "id": "7ff31f56",
   "metadata": {},
   "outputs": [],
   "source": [
    "pages = np.arange(1, 12, 1)\n",
    "title  = []\n",
    "note = []\n",
    "resume = []\n",
    "\n",
    "for page in pages : \n",
    "    #print(page)\n",
    "    def get_page_contents(page):\n",
    "        page = requests.get('https://www.allocine.fr/film/meilleurs/' \n",
    "                        + '?page=' + str(page) , headers={\"Accept-Language\": \"fr\"})\n",
    "        return bs4.BeautifulSoup(page.text, \"html.parser\")\n",
    "\n",
    "    soup = get_page_contents(page)\n",
    "    movies = soup.findAll('div', class_='card entity-card entity-card-list cf')\n",
    "    titles = [movie.find('a').text for movie in movies]\n",
    "    title = title + titles\n",
    "    note = note +  [movie.find('span', 'stareval-note', text_attribute=False).text.strip() for movie in movies]\n",
    "    resume  = resume +  [movie.find('div', 'content-txt', text_attribute=False).text.strip() for movie in movies]\n"
   ]
  },
  {
   "cell_type": "code",
   "execution_count": 3,
   "id": "3994d2c2",
   "metadata": {},
   "outputs": [
    {
     "data": {
      "text/html": [
       "<div>\n",
       "<style scoped>\n",
       "    .dataframe tbody tr th:only-of-type {\n",
       "        vertical-align: middle;\n",
       "    }\n",
       "\n",
       "    .dataframe tbody tr th {\n",
       "        vertical-align: top;\n",
       "    }\n",
       "\n",
       "    .dataframe thead th {\n",
       "        text-align: right;\n",
       "    }\n",
       "</style>\n",
       "<table border=\"1\" class=\"dataframe\">\n",
       "  <thead>\n",
       "    <tr style=\"text-align: right;\">\n",
       "      <th></th>\n",
       "      <th>title</th>\n",
       "      <th>resume</th>\n",
       "      <th>note</th>\n",
       "    </tr>\n",
       "  </thead>\n",
       "  <tbody>\n",
       "    <tr>\n",
       "      <th>0</th>\n",
       "      <td>Forrest Gump</td>\n",
       "      <td>Quelques décennies d'histoire américaine, des ...</td>\n",
       "      <td>2,6</td>\n",
       "    </tr>\n",
       "    <tr>\n",
       "      <th>1</th>\n",
       "      <td>La Liste de Schindler</td>\n",
       "      <td>Evocation des années de guerre d'Oskar Schindl...</td>\n",
       "      <td>4,2</td>\n",
       "    </tr>\n",
       "    <tr>\n",
       "      <th>2</th>\n",
       "      <td>La Ligne verte</td>\n",
       "      <td>Paul Edgecomb, Gardien-chef du pénitencier de ...</td>\n",
       "      <td>2,8</td>\n",
       "    </tr>\n",
       "    <tr>\n",
       "      <th>3</th>\n",
       "      <td>12 hommes en colère</td>\n",
       "      <td>Lors d'un procès, un juré émet l'hypothèse que...</td>\n",
       "      <td>5,0</td>\n",
       "    </tr>\n",
       "    <tr>\n",
       "      <th>4</th>\n",
       "      <td>Le Parrain</td>\n",
       "      <td>En 1945, à New York, les Corleone sont une des...</td>\n",
       "      <td>4,6</td>\n",
       "    </tr>\n",
       "  </tbody>\n",
       "</table>\n",
       "</div>"
      ],
      "text/plain": [
       "                   title                                             resume   \n",
       "0           Forrest Gump  Quelques décennies d'histoire américaine, des ...  \\\n",
       "1  La Liste de Schindler  Evocation des années de guerre d'Oskar Schindl...   \n",
       "2         La Ligne verte  Paul Edgecomb, Gardien-chef du pénitencier de ...   \n",
       "3    12 hommes en colère  Lors d'un procès, un juré émet l'hypothèse que...   \n",
       "4             Le Parrain  En 1945, à New York, les Corleone sont une des...   \n",
       "\n",
       "  note  \n",
       "0  2,6  \n",
       "1  4,2  \n",
       "2  2,8  \n",
       "3  5,0  \n",
       "4  4,6  "
      ]
     },
     "execution_count": 3,
     "metadata": {},
     "output_type": "execute_result"
    }
   ],
   "source": [
    "films_dict = {'title': title, 'resume': resume, 'note': note }\n",
    "\n",
    "films = pd.DataFrame(films_dict)\n",
    "films.headad()   "
   ]
  },
  {
   "cell_type": "markdown",
   "id": "39d99763",
   "metadata": {},
   "source": [
    "###  Traitement de text ( calcul TFIDF)"
   ]
  },
  {
   "cell_type": "code",
   "execution_count": 5,
   "id": "65da0fb6",
   "metadata": {},
   "outputs": [
    {
     "name": "stderr",
     "output_type": "stream",
     "text": [
      "/Library/Frameworks/Python.framework/Versions/3.11/lib/python3.11/site-packages/sklearn/feature_extraction/text.py:409: UserWarning: Your stop_words may be inconsistent with your preprocessing. Tokenizing the stop words generated tokens ['neuf', 'qu', 'quelqu'] not in stop_words.\n",
      "  warnings.warn(\n"
     ]
    },
    {
     "data": {
      "text/plain": [
       "(110, 1624)"
      ]
     },
     "execution_count": 5,
     "metadata": {},
     "output_type": "execute_result"
    }
   ],
   "source": [
    "sw = list(fr_stop)\n",
    "tfidf = TfidfVectorizer(stop_words=sw)\n",
    "films['resume'] = films['resume'].fillna('')\n",
    "tfidf_matrix = tfidf.fit_transform(films['resume'])\n",
    "tfidf_matrix.shape\n"
   ]
  },
  {
   "cell_type": "markdown",
   "id": "002a9b59",
   "metadata": {},
   "source": [
    "### Matrice de similarité"
   ]
  },
  {
   "cell_type": "code",
   "execution_count": 7,
   "id": "8f402c32",
   "metadata": {},
   "outputs": [],
   "source": [
    "cosine_sim = linear_kernel(tfidf_matrix, tfidf_matrix)\n"
   ]
  },
  {
   "cell_type": "code",
   "execution_count": 8,
   "id": "2572ba23",
   "metadata": {},
   "outputs": [],
   "source": [
    "indices = pd.Series(films.index, index=films['title']).drop_duplicates()\n"
   ]
  },
  {
   "cell_type": "markdown",
   "id": "563c180c",
   "metadata": {},
   "source": [
    "### Recommandation :"
   ]
  },
  {
   "cell_type": "code",
   "execution_count": 12,
   "id": "2676d37b",
   "metadata": {},
   "outputs": [],
   "source": [
    "def get_recommendations(title, cosine_sim=cosine_sim):\n",
    "    idx = indices[title]\n",
    "\n",
    "    sim_scores = list(enumerate(cosine_sim[idx]))\n",
    "\n",
    "    sim_scores = sorted(sim_scores, key=lambda x: x[1], reverse=True)\n",
    "\n",
    "    sim_scores = sim_scores[1:6]\n",
    "\n",
    "    movie_indices = [i[0] for i in sim_scores]\n",
    "\n",
    "    return films['title'].iloc[movie_indices]\n"
   ]
  },
  {
   "cell_type": "code",
   "execution_count": 17,
   "id": "65f75137",
   "metadata": {},
   "outputs": [
    {
     "data": {
      "text/plain": [
       "67                                     Shutter Island\n",
       "35                                 Les Temps modernes\n",
       "65                                             Matrix\n",
       "54                          Les Sentiers de la gloire\n",
       "20    Star Wars : Episode V - L'Empire contre-attaque\n",
       "Name: title, dtype: object"
      ]
     },
     "execution_count": 17,
     "metadata": {},
     "output_type": "execute_result"
    }
   ],
   "source": [
    "#test\n",
    "get_recommendations(\"Vol au-dessus d'un nid de coucou\")\n"
   ]
  },
  {
   "cell_type": "code",
   "execution_count": 18,
   "id": "c947233c",
   "metadata": {},
   "outputs": [],
   "source": [
    "rec = pd.DataFrame(get_recommendations(\"Vol au-dessus d'un nid de coucou\")\n",
    ")"
   ]
  },
  {
   "cell_type": "code",
   "execution_count": 19,
   "id": "d75cb795",
   "metadata": {},
   "outputs": [
    {
     "data": {
      "text/html": [
       "<div>\n",
       "<style scoped>\n",
       "    .dataframe tbody tr th:only-of-type {\n",
       "        vertical-align: middle;\n",
       "    }\n",
       "\n",
       "    .dataframe tbody tr th {\n",
       "        vertical-align: top;\n",
       "    }\n",
       "\n",
       "    .dataframe thead th {\n",
       "        text-align: right;\n",
       "    }\n",
       "</style>\n",
       "<table border=\"1\" class=\"dataframe\">\n",
       "  <thead>\n",
       "    <tr style=\"text-align: right;\">\n",
       "      <th></th>\n",
       "      <th>title</th>\n",
       "    </tr>\n",
       "  </thead>\n",
       "  <tbody>\n",
       "    <tr>\n",
       "      <th>67</th>\n",
       "      <td>Shutter Island</td>\n",
       "    </tr>\n",
       "    <tr>\n",
       "      <th>35</th>\n",
       "      <td>Les Temps modernes</td>\n",
       "    </tr>\n",
       "    <tr>\n",
       "      <th>65</th>\n",
       "      <td>Matrix</td>\n",
       "    </tr>\n",
       "    <tr>\n",
       "      <th>54</th>\n",
       "      <td>Les Sentiers de la gloire</td>\n",
       "    </tr>\n",
       "    <tr>\n",
       "      <th>20</th>\n",
       "      <td>Star Wars : Episode V - L'Empire contre-attaque</td>\n",
       "    </tr>\n",
       "  </tbody>\n",
       "</table>\n",
       "</div>"
      ],
      "text/plain": [
       "                                              title\n",
       "67                                   Shutter Island\n",
       "35                               Les Temps modernes\n",
       "65                                           Matrix\n",
       "54                        Les Sentiers de la gloire\n",
       "20  Star Wars : Episode V - L'Empire contre-attaque"
      ]
     },
     "execution_count": 19,
     "metadata": {},
     "output_type": "execute_result"
    }
   ],
   "source": [
    "rec"
   ]
  },
  {
   "cell_type": "code",
   "execution_count": 28,
   "id": "84397d5c",
   "metadata": {},
   "outputs": [
    {
     "data": {
      "text/html": [
       "<div>\n",
       "<style scoped>\n",
       "    .dataframe tbody tr th:only-of-type {\n",
       "        vertical-align: middle;\n",
       "    }\n",
       "\n",
       "    .dataframe tbody tr th {\n",
       "        vertical-align: top;\n",
       "    }\n",
       "\n",
       "    .dataframe thead th {\n",
       "        text-align: right;\n",
       "    }\n",
       "</style>\n",
       "<table border=\"1\" class=\"dataframe\">\n",
       "  <thead>\n",
       "    <tr style=\"text-align: right;\">\n",
       "      <th></th>\n",
       "      <th>title_x</th>\n",
       "      <th>title_y</th>\n",
       "      <th>resume</th>\n",
       "      <th>note</th>\n",
       "    </tr>\n",
       "  </thead>\n",
       "  <tbody>\n",
       "    <tr>\n",
       "      <th>20</th>\n",
       "      <td>Star Wars : Episode V - L'Empire contre-attaque</td>\n",
       "      <td>Star Wars : Episode V - L'Empire contre-attaque</td>\n",
       "      <td>Malgré la destruction de l'Etoile Noire, l'Emp...</td>\n",
       "      <td>5,0</td>\n",
       "    </tr>\n",
       "    <tr>\n",
       "      <th>35</th>\n",
       "      <td>Les Temps modernes</td>\n",
       "      <td>Les Temps modernes</td>\n",
       "      <td>Charlot est ouvrier dans une immense usine. Il...</td>\n",
       "      <td>4,6</td>\n",
       "    </tr>\n",
       "    <tr>\n",
       "      <th>54</th>\n",
       "      <td>Les Sentiers de la gloire</td>\n",
       "      <td>Les Sentiers de la gloire</td>\n",
       "      <td>Durant la Première Guerre mondiale, le général...</td>\n",
       "      <td>4,6</td>\n",
       "    </tr>\n",
       "    <tr>\n",
       "      <th>67</th>\n",
       "      <td>Shutter Island</td>\n",
       "      <td>Shutter Island</td>\n",
       "      <td>1954. Teddy Daniels et Chuck Aule enquêtent su...</td>\n",
       "      <td>3,8</td>\n",
       "    </tr>\n",
       "    <tr>\n",
       "      <th>65</th>\n",
       "      <td>Matrix</td>\n",
       "      <td>Matrix</td>\n",
       "      <td>Programmeur anonyme, Thomas Anderson est aussi...</td>\n",
       "      <td>3,4</td>\n",
       "    </tr>\n",
       "  </tbody>\n",
       "</table>\n",
       "</div>"
      ],
      "text/plain": [
       "                                            title_x   \n",
       "20  Star Wars : Episode V - L'Empire contre-attaque  \\\n",
       "35                               Les Temps modernes   \n",
       "54                        Les Sentiers de la gloire   \n",
       "67                                   Shutter Island   \n",
       "65                                           Matrix   \n",
       "\n",
       "                                            title_y   \n",
       "20  Star Wars : Episode V - L'Empire contre-attaque  \\\n",
       "35                               Les Temps modernes   \n",
       "54                        Les Sentiers de la gloire   \n",
       "67                                   Shutter Island   \n",
       "65                                           Matrix   \n",
       "\n",
       "                                               resume note  \n",
       "20  Malgré la destruction de l'Etoile Noire, l'Emp...  5,0  \n",
       "35  Charlot est ouvrier dans une immense usine. Il...  4,6  \n",
       "54  Durant la Première Guerre mondiale, le général...  4,6  \n",
       "67  1954. Teddy Daniels et Chuck Aule enquêtent su...  3,8  \n",
       "65  Programmeur anonyme, Thomas Anderson est aussi...  3,4  "
      ]
     },
     "execution_count": 28,
     "metadata": {},
     "output_type": "execute_result"
    }
   ],
   "source": [
    "pd.merge(rec, films, left_index=True, right_index=True).sort_values(\"note\",  ascending=False)\n"
   ]
  },
  {
   "cell_type": "code",
   "execution_count": null,
   "id": "4ff6ddea",
   "metadata": {},
   "outputs": [],
   "source": []
  },
  {
   "cell_type": "code",
   "execution_count": null,
   "id": "08672661",
   "metadata": {},
   "outputs": [],
   "source": []
  }
 ],
 "metadata": {
  "kernelspec": {
   "display_name": "Python 3 (ipykernel)",
   "language": "python",
   "name": "python3"
  },
  "language_info": {
   "codemirror_mode": {
    "name": "ipython",
    "version": 3
   },
   "file_extension": ".py",
   "mimetype": "text/x-python",
   "name": "python",
   "nbconvert_exporter": "python",
   "pygments_lexer": "ipython3",
   "version": "3.11.0"
  }
 },
 "nbformat": 4,
 "nbformat_minor": 5
}
