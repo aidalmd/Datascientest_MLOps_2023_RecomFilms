{
 "cells": [
  {
   "cell_type": "code",
   "execution_count": 1,
   "metadata": {},
   "outputs": [
    {
     "name": "stdout",
     "output_type": "stream",
     "text": [
      "scrapped_films_202305171705.csv\n",
      "processed_films_202305171705.csv\n"
     ]
    }
   ],
   "source": [
    "import pandas as pd\n",
    "from utils.config import FOLDER_DATA\n",
    "from file_management import LIVE_PROCESSED_TABLE\n",
    "\n",
    "# The most up to date scrapped csv version is used\n",
    "test = pd.read_csv(f'{FOLDER_DATA}/{LIVE_PROCESSED_TABLE}') if LIVE_PROCESSED_TABLE else None"
   ]
  },
  {
   "cell_type": "code",
   "execution_count": null,
   "metadata": {},
   "outputs": [],
   "source": [
    "import pandas as pd\n",
    "import yaml\n",
    "\n",
    "# Load the config.yaml file\n",
    "with open('modeling/config.yaml') as file:\n",
    "    cfg = yaml.safe_load(file)\n",
    "\n",
    "\n",
    "df = pd.read_csv(f'{FOLDER_DATA}/{LIVE_PROCESSED_TABLE}') if LIVE_PROCESSED_TABLE else None\n",
    "\n",
    "# Apply lambda function to each feature specified in config.yaml\n",
    "for feature in cfg['model']['content_features']:\n",
    "    if feature == 'synopsis':\n",
    "        df[feature] = df[feature].apply(lambda x:x.split())\n",
    "    else:\n",
    "        pass\n",
    "\n",
    "for feature in cfg['model']['processed_features']:\n",
    "    df[feature] = df[feature].apply(lambda x: ','.join(map(lambda i: i.replace(' ', ''), x.split(','))))\n",
    "\n",
    "# Display the modified DataFrame\n",
    "df.head()"
   ]
  },
  {
   "cell_type": "code",
   "execution_count": null,
   "metadata": {},
   "outputs": [],
   "source": [
    "# TODO: "
   ]
  },
  {
   "attachments": {},
   "cell_type": "markdown",
   "metadata": {},
   "source": [
    "##### Temp solution"
   ]
  },
  {
   "cell_type": "code",
   "execution_count": null,
   "metadata": {},
   "outputs": [],
   "source": [
    "import pandas as pd\n",
    "from sklearn.feature_extraction.text import TfidfVectorizer\n",
    "from sklearn.metrics.pairwise import linear_kernel\n",
    "\n",
    "# Load the dataset\n",
    "dataset = pd.pd.read_csv(f'{FOLDER_DATA}/{LIVE_PROCESSED_TABLE}') if LIVE_PROCESSED_TABLE else None\n",
    "\n",
    "# Create a TF-IDF vectorizer\n",
    "tfidf = TfidfVectorizer(stop_words='english')\n",
    "\n",
    "# Replace missing values with empty strings\n",
    "dataset['synopsis'] = dataset['synopsis'].fillna('')\n",
    "\n",
    "# Apply TF-IDF vectorizer to the 'synopsis' feature\n",
    "tfidf_matrix = tfidf.fit_transform(dataset['synopsis'])\n",
    "\n",
    "# Compute the cosine similarity matrix\n",
    "cosine_sim = linear_kernel(tfidf_matrix, tfidf_matrix)\n",
    "\n",
    "# Function to get movie recommendations\n",
    "def get_recommendations(title, cosine_sim_matrix, dataset):\n",
    "    # Get the index of the movie that matches the title\n",
    "    idx = dataset[dataset['title'] == title].index[0]\n",
    "\n",
    "    # Get the pairwise similarity scores of all movies with that movie\n",
    "    sim_scores = list(enumerate(cosine_sim_matrix[idx]))\n",
    "\n",
    "    # Sort the movies based on the similarity scores\n",
    "    sim_scores = sorted(sim_scores, key=lambda x: x[1], reverse=True)\n",
    "\n",
    "    # Get the top 5 similar movies\n",
    "    top_movies = sim_scores[1:6]\n",
    "\n",
    "    # Get the movie indices\n",
    "    movie_indices = [movie[0] for movie in top_movies]\n",
    "\n",
    "    # Return the top 5 similar movies\n",
    "    return dataset['title'].iloc[movie_indices]"
   ]
  },
  {
   "cell_type": "code",
   "execution_count": null,
   "metadata": {},
   "outputs": [],
   "source": [
    "# Example usage\n",
    "movie_title = 'Forrest Gump'\n",
    "recommendations = get_recommendations(movie_title, cosine_sim, dataset)\n",
    "print(recommendations)"
   ]
  }
 ],
 "metadata": {
  "kernelspec": {
   "display_name": "Python 3",
   "language": "python",
   "name": "python3"
  },
  "language_info": {
   "codemirror_mode": {
    "name": "ipython",
    "version": 3
   },
   "file_extension": ".py",
   "mimetype": "text/x-python",
   "name": "python",
   "nbconvert_exporter": "python",
   "pygments_lexer": "ipython3",
   "version": "3.8.10"
  },
  "orig_nbformat": 4
 },
 "nbformat": 4,
 "nbformat_minor": 2
}
