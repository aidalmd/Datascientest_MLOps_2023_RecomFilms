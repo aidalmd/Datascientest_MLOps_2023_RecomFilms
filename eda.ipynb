{
 "cells": [
  {
   "cell_type": "code",
   "execution_count": 1,
   "metadata": {},
   "outputs": [
    {
     "name": "stdout",
     "output_type": "stream",
     "text": [
      "scrapped_films_202305171705.csv\n",
      "processed_films_202305171705.csv\n"
     ]
    }
   ],
   "source": [
    "import pandas as pd\n",
    "from utils.config import FOLDER_DATA\n",
    "from file_management import LIVE_PROCESSED_TABLE\n",
    "\n",
    "# The most up to date scrapped csv version is used\n",
    "test = pd.read_csv(f'{FOLDER_DATA}/{LIVE_PROCESSED_TABLE}') if LIVE_PROCESSED_TABLE else None"
   ]
  },
  {
   "cell_type": "code",
   "execution_count": 10,
   "metadata": {},
   "outputs": [
    {
     "data": {
      "text/plain": [
       "rank            0\n",
       "title           0\n",
       "duration        0\n",
       "genres          0\n",
       "director        0\n",
       "cast            0\n",
       "synopsis        0\n",
       "rating          0\n",
       "duration_min    0\n",
       "dtype: int64"
      ]
     },
     "execution_count": 10,
     "metadata": {},
     "output_type": "execute_result"
    }
   ],
   "source": [
    "test.isnull().sum()"
   ]
  }
 ],
 "metadata": {
  "kernelspec": {
   "display_name": "Python 3",
   "language": "python",
   "name": "python3"
  },
  "language_info": {
   "codemirror_mode": {
    "name": "ipython",
    "version": 3
   },
   "file_extension": ".py",
   "mimetype": "text/x-python",
   "name": "python",
   "nbconvert_exporter": "python",
   "pygments_lexer": "ipython3",
   "version": "3.8.10"
  },
  "orig_nbformat": 4
 },
 "nbformat": 4,
 "nbformat_minor": 2
}
