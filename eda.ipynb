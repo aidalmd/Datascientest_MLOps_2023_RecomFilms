{
 "cells": [
  {
   "cell_type": "code",
   "execution_count": 2,
   "metadata": {},
   "outputs": [],
   "source": [
    "import pandas as pd"
   ]
  },
  {
   "cell_type": "code",
   "execution_count": 12,
   "metadata": {},
   "outputs": [],
   "source": [
    "test = pd.read_csv('artifacts/cbs_model_output.csv')"
   ]
  },
  {
   "cell_type": "code",
   "execution_count": 13,
   "metadata": {},
   "outputs": [
    {
     "data": {
      "text/html": [
       "<div>\n",
       "<style scoped>\n",
       "    .dataframe tbody tr th:only-of-type {\n",
       "        vertical-align: middle;\n",
       "    }\n",
       "\n",
       "    .dataframe tbody tr th {\n",
       "        vertical-align: top;\n",
       "    }\n",
       "\n",
       "    .dataframe thead th {\n",
       "        text-align: right;\n",
       "    }\n",
       "</style>\n",
       "<table border=\"1\" class=\"dataframe\">\n",
       "  <thead>\n",
       "    <tr style=\"text-align: right;\">\n",
       "      <th></th>\n",
       "      <th>recom_date</th>\n",
       "      <th>dataframe</th>\n",
       "      <th>user_film</th>\n",
       "      <th>film_index</th>\n",
       "      <th>recommended_films</th>\n",
       "      <th>recommended_ratings</th>\n",
       "      <th>satisfaction</th>\n",
       "      <th>similarity</th>\n",
       "    </tr>\n",
       "  </thead>\n",
       "  <tbody>\n",
       "    <tr>\n",
       "      <th>4</th>\n",
       "      <td>202305292308</td>\n",
       "      <td>processed_films_202305202210.csv</td>\n",
       "      <td>Avatar</td>\n",
       "      <td>139</td>\n",
       "      <td>[\"Star Wars : Episode V - L'Empire contre-atta...</td>\n",
       "      <td>[5.0, 4.8, 4.4, 4.1, 3.8]</td>\n",
       "      <td>[[1.         0.03413944 0.03774257 ... 0.03580...</td>\n",
       "      <td>Y</td>\n",
       "    </tr>\n",
       "    <tr>\n",
       "      <th>5</th>\n",
       "      <td>202305292308</td>\n",
       "      <td>processed_films_202305202210.csv</td>\n",
       "      <td>Coco</td>\n",
       "      <td>27</td>\n",
       "      <td>['Vice Versa', 'La-haut', 'Soul', 'Your Name',...</td>\n",
       "      <td>[4.7, 4.6, 4.3, 4.0, 3.9]</td>\n",
       "      <td>[[1.         0.03413944 0.03774257 ... 0.03580...</td>\n",
       "      <td>N</td>\n",
       "    </tr>\n",
       "    <tr>\n",
       "      <th>6</th>\n",
       "      <td>202305292312</td>\n",
       "      <td>processed_films_202305202210.csv</td>\n",
       "      <td>Forrest Gump</td>\n",
       "      <td>0</td>\n",
       "      <td>['Barry Lyndon', 'Mirage de la vie', 'Je veux ...</td>\n",
       "      <td>[5.0, 4.3, 4.3, 4.3, 4.2]</td>\n",
       "      <td>[[1.         0.03413944 0.03774257 ... 0.03580...</td>\n",
       "      <td>n</td>\n",
       "    </tr>\n",
       "    <tr>\n",
       "      <th>7</th>\n",
       "      <td>202305292319</td>\n",
       "      <td>processed_films_202305202210.csv</td>\n",
       "      <td>Avatar</td>\n",
       "      <td>139</td>\n",
       "      <td>[\"Star Wars : Episode V - L'Empire contre-atta...</td>\n",
       "      <td>[5.0, 4.8, 4.4, 4.1, 3.8]</td>\n",
       "      <td>[[1.         0.03413944 0.03774257 ... 0.03580...</td>\n",
       "      <td>Y</td>\n",
       "    </tr>\n",
       "    <tr>\n",
       "      <th>8</th>\n",
       "      <td>202305292321</td>\n",
       "      <td>processed_films_202305202210.csv</td>\n",
       "      <td>Coco</td>\n",
       "      <td>27</td>\n",
       "      <td>['Vice Versa', 'La-haut', 'Soul', 'Your Name',...</td>\n",
       "      <td>[4.7, 4.6, 4.3, 4.0, 3.9]</td>\n",
       "      <td>[[1.         0.03413944 0.03774257 ... 0.03580...</td>\n",
       "      <td>N</td>\n",
       "    </tr>\n",
       "  </tbody>\n",
       "</table>\n",
       "</div>"
      ],
      "text/plain": [
       "     recom_date                         dataframe     user_film  film_index   \n",
       "4  202305292308  processed_films_202305202210.csv        Avatar         139  \\\n",
       "5  202305292308  processed_films_202305202210.csv          Coco          27   \n",
       "6  202305292312  processed_films_202305202210.csv  Forrest Gump           0   \n",
       "7  202305292319  processed_films_202305202210.csv        Avatar         139   \n",
       "8  202305292321  processed_films_202305202210.csv          Coco          27   \n",
       "\n",
       "                                   recommended_films   \n",
       "4  [\"Star Wars : Episode V - L'Empire contre-atta...  \\\n",
       "5  ['Vice Versa', 'La-haut', 'Soul', 'Your Name',...   \n",
       "6  ['Barry Lyndon', 'Mirage de la vie', 'Je veux ...   \n",
       "7  [\"Star Wars : Episode V - L'Empire contre-atta...   \n",
       "8  ['Vice Versa', 'La-haut', 'Soul', 'Your Name',...   \n",
       "\n",
       "         recommended_ratings   \n",
       "4  [5.0, 4.8, 4.4, 4.1, 3.8]  \\\n",
       "5  [4.7, 4.6, 4.3, 4.0, 3.9]   \n",
       "6  [5.0, 4.3, 4.3, 4.3, 4.2]   \n",
       "7  [5.0, 4.8, 4.4, 4.1, 3.8]   \n",
       "8  [4.7, 4.6, 4.3, 4.0, 3.9]   \n",
       "\n",
       "                                        satisfaction similarity  \n",
       "4  [[1.         0.03413944 0.03774257 ... 0.03580...          Y  \n",
       "5  [[1.         0.03413944 0.03774257 ... 0.03580...          N  \n",
       "6  [[1.         0.03413944 0.03774257 ... 0.03580...          n  \n",
       "7  [[1.         0.03413944 0.03774257 ... 0.03580...          Y  \n",
       "8  [[1.         0.03413944 0.03774257 ... 0.03580...          N  "
      ]
     },
     "execution_count": 13,
     "metadata": {},
     "output_type": "execute_result"
    }
   ],
   "source": [
    "test.tail()"
   ]
  }
 ],
 "metadata": {
  "kernelspec": {
   "display_name": "Python 3",
   "language": "python",
   "name": "python3"
  },
  "language_info": {
   "codemirror_mode": {
    "name": "ipython",
    "version": 3
   },
   "file_extension": ".py",
   "mimetype": "text/x-python",
   "name": "python",
   "nbconvert_exporter": "python",
   "pygments_lexer": "ipython3",
   "version": "3.8.10"
  },
  "orig_nbformat": 4
 },
 "nbformat": 4,
 "nbformat_minor": 2
}
