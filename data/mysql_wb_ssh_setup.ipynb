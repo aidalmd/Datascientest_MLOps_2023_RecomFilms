{
 "cells": [
  {
   "attachments": {},
   "cell_type": "markdown",
   "metadata": {},
   "source": [
    "# Install & Connect MySQL database using MSQL Workbench\n",
    "###### *version 1.0*"
   ]
  },
  {
   "attachments": {},
   "cell_type": "markdown",
   "metadata": {},
   "source": [
    "**Before anything, you will need to have MySQL installed on your system:**\n",
    "1. Visit the official MySQL website: https://dev.mysql.com/downloads/\n",
    "2. Click on the \"MySQL Community Server\" tab.\n",
    "3. Scroll down to find the \"MySQL Community Server\" section and click the \"Download\" button for the version appropriate for your operating system."
   ]
  },
  {
   "attachments": {},
   "cell_type": "markdown",
   "metadata": {},
   "source": [
    "\n",
    "#### To install and connect to a MySQL database using MySQL Workbench on Ubuntu 18.04 while working on an SSH connection, you need to follow these steps:"
   ]
  },
  {
   "attachments": {},
   "cell_type": "markdown",
   "metadata": {},
   "source": [
    "##### 1. Install MySQL Workbench:"
   ]
  },
  {
   "attachments": {},
   "cell_type": "markdown",
   "metadata": {},
   "source": [
    "- Connect to your Ubuntu 20.04 server via SSH.\n",
    "- Update the package lists by running the following command:"
   ]
  },
  {
   "cell_type": "code",
   "execution_count": null,
   "metadata": {
    "vscode": {
     "languageId": "shellscript"
    }
   },
   "outputs": [],
   "source": [
    "sudo apt update"
   ]
  },
  {
   "attachments": {},
   "cell_type": "markdown",
   "metadata": {},
   "source": [
    "- Install MySQL Workbench by running the following command:"
   ]
  },
  {
   "cell_type": "code",
   "execution_count": null,
   "metadata": {
    "vscode": {
     "languageId": "shellscript"
    }
   },
   "outputs": [],
   "source": [
    "sudo apt install mysql-workbench"
   ]
  },
  {
   "attachments": {},
   "cell_type": "markdown",
   "metadata": {},
   "source": [
    "##### 2. Configure MySQL Server:"
   ]
  },
  {
   "attachments": {},
   "cell_type": "markdown",
   "metadata": {},
   "source": [
    "- If you haven't installed MySQL server yet, you can install it by running the following command:"
   ]
  },
  {
   "cell_type": "code",
   "execution_count": null,
   "metadata": {
    "vscode": {
     "languageId": "shellscript"
    }
   },
   "outputs": [],
   "source": [
    "sudo apt install mysql-server"
   ]
  },
  {
   "attachments": {},
   "cell_type": "markdown",
   "metadata": {},
   "source": [
    "- Enable the MySQL service to start on boot:"
   ]
  },
  {
   "cell_type": "code",
   "execution_count": null,
   "metadata": {
    "vscode": {
     "languageId": "shellscript"
    }
   },
   "outputs": [],
   "source": [
    "sudo systemctl enable mysql"
   ]
  },
  {
   "attachments": {},
   "cell_type": "markdown",
   "metadata": {},
   "source": [
    "##### 3. Allow remote connections to MySQL server:"
   ]
  },
  {
   "attachments": {},
   "cell_type": "markdown",
   "metadata": {},
   "source": [
    "- By default, MySQL server on Ubuntu only listens for connections on the localhost. To allow remote connections, you need to modify the MySQL configuration.\n",
    "- Open the MySQL configuration file using a text editor:"
   ]
  },
  {
   "cell_type": "code",
   "execution_count": null,
   "metadata": {
    "vscode": {
     "languageId": "shellscript"
    }
   },
   "outputs": [],
   "source": [
    "sudo nano /etc/mysql/mysql.conf.d/mysqld.cnf"
   ]
  },
  {
   "attachments": {},
   "cell_type": "markdown",
   "metadata": {},
   "source": [
    "- Look for the line **'bind-address = 127.0.0.1'** and comment it out by adding a # at the beginning of the line:"
   ]
  },
  {
   "cell_type": "code",
   "execution_count": null,
   "metadata": {
    "vscode": {
     "languageId": "shellscript"
    }
   },
   "outputs": [],
   "source": [
    "#bind-address = 127.0.0.1"
   ]
  },
  {
   "attachments": {},
   "cell_type": "markdown",
   "metadata": {},
   "source": [
    "- Save the changes and exit the text editor.\n",
    "- Restart the MySQL service for the changes to take effect:"
   ]
  },
  {
   "cell_type": "code",
   "execution_count": null,
   "metadata": {
    "vscode": {
     "languageId": "shellscript"
    }
   },
   "outputs": [],
   "source": [
    "sudo systemctl restart mysql"
   ]
  },
  {
   "attachments": {},
   "cell_type": "markdown",
   "metadata": {},
   "source": [
    "##### 4. Connect to the remote MySQL server using MySQL Workbench:"
   ]
  },
  {
   "attachments": {},
   "cell_type": "markdown",
   "metadata": {},
   "source": [
    "- Launch MySQL Workbench on your local machine.\n",
    "- Click on the \"+\" icon in the \"MySQL Connections\" panel to create a new connection.\n",
    "- Enter a connection name of your choice.\n",
    "- Set the following parameters:\n",
    "    - Connection Method: Standard TCP/IP over SSH\n",
    "    - SSH Hostname: Your Ubuntu server's IP address or hostname\n",
    "    - SSH Username: Your SSH username\n",
    "    - SSH Keyfile: The location of your key 'data_xxx_.pem'\n",
    "    - SSH Password: Your SSH password\n",
    "    - MySQL Hostname: 127.0.0.1 (since you're connecting through SSH)\n",
    "    - MySQL Server Port: 3306 (default MySQL port)\n",
    "    - Username: root (or the MySQL user you want to connect with)\n",
    "    - Password: Your MySQL root password (set during installation)\n",
    "- Click \"Test Connection\" to check if the connection is successful.\n",
    "- If the test is successful, click \"OK\" to save the connection settings.\n",
    "- You can now connect to the MySQL database on your Ubuntu server using MySQL Workbench.\n",
    "\n",
    "*Note: Make sure you have SSH access to your Ubuntu 18.04 server before attempting to connect using MySQL Workbench*"
   ]
  },
  {
   "attachments": {},
   "cell_type": "markdown",
   "metadata": {},
   "source": [
    "##### 5. Re-connect to the remote MySQL server using MySQL Workbench:"
   ]
  },
  {
   "attachments": {},
   "cell_type": "markdown",
   "metadata": {},
   "source": [
    "- Re-Open MySQL Workbench and edit the connection.\n",
    "- Change the SSH and MySQL Hostname by the new IP address of your Ubuntu server\n",
    "- Change your IP address in the .env file"
   ]
  }
 ],
 "metadata": {
  "language_info": {
   "name": "python"
  },
  "orig_nbformat": 4
 },
 "nbformat": 4,
 "nbformat_minor": 2
}
